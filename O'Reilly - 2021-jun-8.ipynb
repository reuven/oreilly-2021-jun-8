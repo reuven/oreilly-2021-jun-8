{
 "cells": [
  {
   "cell_type": "markdown",
   "metadata": {},
   "source": [
    "# Agenda\n",
    "\n",
    "1. Lots of questions\n",
    "2. Even more questions!"
   ]
  },
  {
   "cell_type": "markdown",
   "metadata": {},
   "source": [
    "# What are the methods that all Python objects have?"
   ]
  },
  {
   "cell_type": "markdown",
   "metadata": {},
   "source": [
    "- Everything in Python is an object\n",
    "- Everything has a class (type)\n",
    "- Everything has attributes as well (things that come after a .)\n",
    "\n",
    "- Methods are attributes\n",
    "- Through inheritance, objects have access to methods on their classes, and also anything that their class inherits from\n",
    "\n",
    "- Everyone eventually inherits from `object`, the ultimate top object in the Python hierarchy.\n",
    "\n",
    "So the only methods that *everything* in Python has access to are those that are defined on `object`, and which we then get via inheritance.\n",
    "\n",
    "What are those?\n",
    "\n",
    "- `__new__` -- this creates new objects.  You should *NOT EVER EVER EVER* define this method unless you *really* know what you're doing.\n",
    "- `__init__` -- this adds new attributes to objecst. This is typically overridden in a class you create.\n",
    "- `__str__` -- this returns a string representation of your object, meant for end users\n",
    "- `__repr__` -- this returns a string representation of your object, meant for programmers.\n",
    "\n",
    "There are a few other methods as well, such as `__setattr__` and `__getattr__` which are kind of low level.\n",
    "\n",
    "You can always see what methods (and attributes in general) are available to an object with the `dir` function, which returns a list of strings."
   ]
  },
  {
   "cell_type": "markdown",
   "metadata": {},
   "source": [
    "# List comprehensions and confusion that they can cause\n",
    "\n",
    "Comprehensions allow you to create a new list based on an existing iterable, by describing what you want in the resulting iterable.  They're very similar in many ways to SQL.\n",
    "\n",
    "When should you use a list comprehension? When you have a source iterable, you want to create a list, and you can describe an expression that maps from the source to the destination.\n",
    "\n",
    "You want to use a regular `for` loop if you're not interested in the resulting loop, but are interested in the assignments/changes/side effects that take place in the loop.  For example: printing and writing to a file.\n"
   ]
  },
  {
   "cell_type": "code",
   "execution_count": 1,
   "metadata": {},
   "outputs": [
    {
     "data": {
      "text/plain": [
       "[0, 1, 4, 9, 16, 25, 36, 49, 64, 81]"
      ]
     },
     "execution_count": 1,
     "metadata": {},
     "output_type": "execute_result"
    }
   ],
   "source": [
    "[one_number**2                  # any expression -- kind of like SELECT in SQL\n",
    " for one_number in range(10)]   # any iteration -- kind of like FROM in SQL"
   ]
  },
  {
   "cell_type": "code",
   "execution_count": 2,
   "metadata": {},
   "outputs": [
    {
     "data": {
      "text/plain": [
       "[0, 4, 16, 36, 64]"
      ]
     },
     "execution_count": 2,
     "metadata": {},
     "output_type": "execute_result"
    }
   ],
   "source": [
    "[one_number**2                  # any expression -- kind of like SELECT in SQL\n",
    " for one_number in range(10)    # any iteration -- kind of like FROM in SQL\n",
    " if one_number % 2 == 0]        # any condition -- kind of like WHERE in SQL"
   ]
  },
  {
   "cell_type": "markdown",
   "metadata": {},
   "source": [
    "# How can we redefine `*` to do multiplication on our own custom objects?  How does this work?\n",
    "\n",
    "All operators in Python are translated into method calls.  So when you say `2 + 3`, that's turned into `int.__add__(2, 3)`.  And when you say `2 * 3`, that's translated into `int.__mul__(2, 3)`."
   ]
  },
  {
   "cell_type": "code",
   "execution_count": 3,
   "metadata": {},
   "outputs": [
    {
     "ename": "TypeError",
     "evalue": "unsupported operand type(s) for +: 'int' and 'str'",
     "output_type": "error",
     "traceback": [
      "\u001b[0;31m---------------------------------------------------------------------------\u001b[0m",
      "\u001b[0;31mTypeError\u001b[0m                                 Traceback (most recent call last)",
      "\u001b[0;32m<ipython-input-3-0301a95aac84>\u001b[0m in \u001b[0;36m<module>\u001b[0;34m\u001b[0m\n\u001b[0;32m----> 1\u001b[0;31m \u001b[0;36m10\u001b[0m \u001b[0;34m+\u001b[0m \u001b[0;34m'3'\u001b[0m\u001b[0;34m\u001b[0m\u001b[0;34m\u001b[0m\u001b[0m\n\u001b[0m",
      "\u001b[0;31mTypeError\u001b[0m: unsupported operand type(s) for +: 'int' and 'str'"
     ]
    }
   ],
   "source": [
    "10 + '3'"
   ]
  },
  {
   "cell_type": "code",
   "execution_count": 4,
   "metadata": {},
   "outputs": [
    {
     "ename": "TypeError",
     "evalue": "can only concatenate str (not \"int\") to str",
     "output_type": "error",
     "traceback": [
      "\u001b[0;31m---------------------------------------------------------------------------\u001b[0m",
      "\u001b[0;31mTypeError\u001b[0m                                 Traceback (most recent call last)",
      "\u001b[0;32m<ipython-input-4-9437dcf020b7>\u001b[0m in \u001b[0;36m<module>\u001b[0;34m\u001b[0m\n\u001b[0;32m----> 1\u001b[0;31m \u001b[0;34m'3'\u001b[0m \u001b[0;34m+\u001b[0m \u001b[0;36m10\u001b[0m\u001b[0;34m\u001b[0m\u001b[0;34m\u001b[0m\u001b[0m\n\u001b[0m",
      "\u001b[0;31mTypeError\u001b[0m: can only concatenate str (not \"int\") to str"
     ]
    }
   ],
   "source": [
    "'3' + 10"
   ]
  },
  {
   "cell_type": "code",
   "execution_count": 16,
   "metadata": {},
   "outputs": [
    {
     "name": "stdout",
     "output_type": "stream",
     "text": [
      "Multiplying self=<__main__.MyData object at 0x11406e640> by other=<__main__.MyData object at 0x11406efa0>\n"
     ]
    },
    {
     "data": {
      "text/plain": [
       "30"
      ]
     },
     "execution_count": 16,
     "metadata": {},
     "output_type": "execute_result"
    }
   ],
   "source": [
    "class MyData:\n",
    "    def __init__(self, x):\n",
    "        self.x = x\n",
    "        \n",
    "    def __mul__(self, other):\n",
    "        print(f'Multiplying {self=} by {other=}')    # New in 3.8's f-strings!\n",
    "        if hasattr(other, 'x'):\n",
    "            return self.x * other.x\n",
    "        else:\n",
    "            return self.x * int(other)\n",
    "        \n",
    "    def __rmul__(self, other):\n",
    "        print(f'Multiplying {self=} by {other=}, but reversed!')\n",
    "        return self * other\n",
    "    \n",
    "a = MyData(10)\n",
    "b = MyData(3)\n",
    "\n",
    "a * b"
   ]
  },
  {
   "cell_type": "code",
   "execution_count": 17,
   "metadata": {},
   "outputs": [
    {
     "name": "stdout",
     "output_type": "stream",
     "text": [
      "Multiplying self=<__main__.MyData object at 0x11406e640> by other=6\n"
     ]
    },
    {
     "data": {
      "text/plain": [
       "60"
      ]
     },
     "execution_count": 17,
     "metadata": {},
     "output_type": "execute_result"
    }
   ],
   "source": [
    "# What happens if we multiply by something that lacks an x attribute?\n",
    "a * 6"
   ]
  },
  {
   "cell_type": "code",
   "execution_count": 18,
   "metadata": {},
   "outputs": [
    {
     "name": "stdout",
     "output_type": "stream",
     "text": [
      "Multiplying self=<__main__.MyData object at 0x11406e640> by other=6, but reversed!\n",
      "Multiplying self=<__main__.MyData object at 0x11406e640> by other=6\n"
     ]
    },
    {
     "data": {
      "text/plain": [
       "60"
      ]
     },
     "execution_count": 18,
     "metadata": {},
     "output_type": "execute_result"
    }
   ],
   "source": [
    "6 * a"
   ]
  },
  {
   "cell_type": "markdown",
   "metadata": {},
   "source": [
    "# Top tips for becoming a great Python programmer\n",
    "\n",
    "\"Great Python programmer\" == \"fluent\"\n",
    "\n",
    "1. Use it a lot! Write lots of Python code. Make lots of mistakes. Get better.\n",
    "2. Get feedback from others on Python code. (If you can work on a open-source project, that often does wonders.)  Pair programming!\n",
    "3. Practice practice practice.\n",
    "4. Read about programming, programming techniques.\n",
    "5. Watch + listen to conference videos."
   ]
  },
  {
   "cell_type": "markdown",
   "metadata": {},
   "source": [
    "# Testing of `input` is hard!\n",
    "\n",
    "If you're using `pytest`, then you can use the `monkeypatch` facility to rewire `sys.stdin` to any other file. Then you have control over the input.  Better yet, you can use a `io.StringIO`, which implements the same API as `sys.stdin`, but is in memory.  So you can set things up with that.\n",
    "\n"
   ]
  },
  {
   "cell_type": "markdown",
   "metadata": {},
   "source": [
    "# I overwrote the type! How do I get it back?\n",
    "\n",
    "I'm going to assume that you redefined `type` in your program.  You should assign to anything in builtins. However, it's hard to notice sometimes. Pay attention to what PyCharm/VSCode/PyLint tells you about this!\n",
    "\n",
    "If you do, then you can usually rewrite the code.  You don't want redefined builtins lying around in your code.\n",
    "\n"
   ]
  },
  {
   "cell_type": "markdown",
   "metadata": {},
   "source": [
    "# What does -O do in terms of optimizing code? "
   ]
  },
  {
   "cell_type": "markdown",
   "metadata": {},
   "source": [
    "The `-O` option does almost nothing.  I think that it only turns `__debug__` from `True` to `False`. It also removes `assert` statements.  And it removes docstrings if you use `-OO`."
   ]
  },
  {
   "cell_type": "markdown",
   "metadata": {},
   "source": [
    "# How to use `pytest`?\n",
    "\n",
    "First: `pytest` is amazing! \n",
    "\n",
    "Second: Get Brian's book (from the Pragmatic Programmers) about `pytest`.  \n",
    "\n",
    "Third: I have some archived Linux Journal columns about `pytest`.  I think that I wrote three articles about that."
   ]
  },
  {
   "cell_type": "markdown",
   "metadata": {},
   "source": [
    "# Loops: `for` vs. `while`\n",
    "\n",
    "Loops are part of the whole \"DRY\" idea in programming: Don't Repeat Yourself!\n",
    "\n",
    "- If code repeats itself several lines in a row, use a loop.\n",
    "- if it repeats itself in several places in your program, use a function.\n",
    "- If it repeats itself in several programs, use a module.\n",
    "\n",
    "How "
   ]
  }
 ],
 "metadata": {
  "kernelspec": {
   "display_name": "Python 3",
   "language": "python",
   "name": "python3"
  },
  "language_info": {
   "codemirror_mode": {
    "name": "ipython",
    "version": 3
   },
   "file_extension": ".py",
   "mimetype": "text/x-python",
   "name": "python",
   "nbconvert_exporter": "python",
   "pygments_lexer": "ipython3",
   "version": "3.9.5"
  }
 },
 "nbformat": 4,
 "nbformat_minor": 4
}
