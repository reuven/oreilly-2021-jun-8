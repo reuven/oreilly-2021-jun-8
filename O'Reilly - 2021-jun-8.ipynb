{
 "cells": [
  {
   "cell_type": "markdown",
   "metadata": {},
   "source": [
    "# Agenda\n",
    "\n",
    "1. Lots of questions\n",
    "2. Even more questions!"
   ]
  },
  {
   "cell_type": "markdown",
   "metadata": {},
   "source": [
    "# What are the methods that all Python objects have?"
   ]
  },
  {
   "cell_type": "markdown",
   "metadata": {},
   "source": [
    "- Everything in Python is an object\n",
    "- Everything has a class (type)\n",
    "- Everything has attributes as well (things that come after a .)\n",
    "\n",
    "- Methods are attributes\n",
    "- Through inheritance, objects have access to methods on their classes, and also anything that their class inherits from\n",
    "\n",
    "- Everyone eventually inherits from `object`, the ultimate top object in the Python hierarchy.\n",
    "\n",
    "So the only methods that *everything* in Python has access to are those that are defined on `object`, and which we then get via inheritance.\n",
    "\n",
    "What are those?\n",
    "\n",
    "- `__new__` -- this creates new objects.  You should *NOT EVER EVER EVER* define this method unless you *really* know what you're doing.\n",
    "- `__init__` -- this adds new attributes to objecst. This is typically overridden in a class you create.\n",
    "- `__str__` -- this returns a string representation of your object, meant for end users\n",
    "- `__repr__` -- this returns a string representation of your object, meant for programmers.\n",
    "\n",
    "There are a few other methods as well, such as `__setattr__` and `__getattr__` which are kind of low level."
   ]
  },
  {
   "cell_type": "code",
   "execution_count": null,
   "metadata": {},
   "outputs": [],
   "source": []
  }
 ],
 "metadata": {
  "kernelspec": {
   "display_name": "Python 3",
   "language": "python",
   "name": "python3"
  },
  "language_info": {
   "codemirror_mode": {
    "name": "ipython",
    "version": 3
   },
   "file_extension": ".py",
   "mimetype": "text/x-python",
   "name": "python",
   "nbconvert_exporter": "python",
   "pygments_lexer": "ipython3",
   "version": "3.9.5"
  }
 },
 "nbformat": 4,
 "nbformat_minor": 4
}
