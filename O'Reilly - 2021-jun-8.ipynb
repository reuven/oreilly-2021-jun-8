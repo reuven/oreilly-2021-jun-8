{
 "cells": [
  {
   "cell_type": "markdown",
   "metadata": {},
   "source": [
    "# Agenda\n",
    "\n",
    "1. Lots of questions\n",
    "2. Even more questions!"
   ]
  },
  {
   "cell_type": "markdown",
   "metadata": {},
   "source": [
    "# What are the methods that all Python objects have?"
   ]
  },
  {
   "cell_type": "markdown",
   "metadata": {},
   "source": [
    "- Everything in Python is an object\n",
    "- Everything has a class (type)\n",
    "- Everything has attributes as well (things that come after a .)\n",
    "\n",
    "- Methods are attributes\n",
    "- Through inheritance, objects have access to methods on their classes, and also anything that their class inherits from\n",
    "\n",
    "- Everyone eventually inherits from `object`, the ultimate top object in the Python hierarchy.\n",
    "\n",
    "So the only methods that *everything* in Python has access to are those that are defined on `object`, and which we then get via inheritance.\n",
    "\n",
    "What are those?\n",
    "\n",
    "- `__new__` -- this creates new objects.  You should *NOT EVER EVER EVER* define this method unless you *really* know what you're doing.\n",
    "- `__init__` -- this adds new attributes to objecst. This is typically overridden in a class you create.\n",
    "- `__str__` -- this returns a string representation of your object, meant for end users\n",
    "- `__repr__` -- this returns a string representation of your object, meant for programmers.\n",
    "\n",
    "There are a few other methods as well, such as `__setattr__` and `__getattr__` which are kind of low level.\n",
    "\n",
    "You can always see what methods (and attributes in general) are available to an object with the `dir` function, which returns a list of strings."
   ]
  },
  {
   "cell_type": "markdown",
   "metadata": {},
   "source": [
    "# List comprehensions and confusion that they can cause\n",
    "\n",
    "Comprehensions allow you to create a new list based on an existing iterable, by describing what you want in the resulting iterable.  They're very similar in many ways to SQL.\n",
    "\n",
    "When should you use a list comprehension? When you have a source iterable, you want to create a list, and you can describe an expression that maps from the source to the destination.\n",
    "\n",
    "You want to use a regular `for` loop if you're not interested in the resulting loop, but are interested in the assignments/changes/side effects that take place in the loop.  For example: printing and writing to a file.\n"
   ]
  },
  {
   "cell_type": "code",
   "execution_count": 1,
   "metadata": {},
   "outputs": [
    {
     "data": {
      "text/plain": [
       "[0, 1, 4, 9, 16, 25, 36, 49, 64, 81]"
      ]
     },
     "execution_count": 1,
     "metadata": {},
     "output_type": "execute_result"
    }
   ],
   "source": [
    "[one_number**2                  # any expression -- kind of like SELECT in SQL\n",
    " for one_number in range(10)]   # any iteration -- kind of like FROM in SQL"
   ]
  },
  {
   "cell_type": "code",
   "execution_count": 2,
   "metadata": {},
   "outputs": [
    {
     "data": {
      "text/plain": [
       "[0, 4, 16, 36, 64]"
      ]
     },
     "execution_count": 2,
     "metadata": {},
     "output_type": "execute_result"
    }
   ],
   "source": [
    "[one_number**2                  # any expression -- kind of like SELECT in SQL\n",
    " for one_number in range(10)    # any iteration -- kind of like FROM in SQL\n",
    " if one_number % 2 == 0]        # any condition -- kind of like WHERE in SQL"
   ]
  },
  {
   "cell_type": "markdown",
   "metadata": {},
   "source": [
    "# How can we redefine `*` to do multiplication on our own custom objects?  How does this work?\n",
    "\n",
    "All operators in Python are translated into method calls.  So when you say `2 + 3`, that's turned into `int.__add__(2, 3)`.  And when you say `2 * 3`, that's translated into `int.__mul__(2, 3)`."
   ]
  },
  {
   "cell_type": "code",
   "execution_count": 3,
   "metadata": {},
   "outputs": [
    {
     "ename": "TypeError",
     "evalue": "unsupported operand type(s) for +: 'int' and 'str'",
     "output_type": "error",
     "traceback": [
      "\u001b[0;31m---------------------------------------------------------------------------\u001b[0m",
      "\u001b[0;31mTypeError\u001b[0m                                 Traceback (most recent call last)",
      "\u001b[0;32m<ipython-input-3-0301a95aac84>\u001b[0m in \u001b[0;36m<module>\u001b[0;34m\u001b[0m\n\u001b[0;32m----> 1\u001b[0;31m \u001b[0;36m10\u001b[0m \u001b[0;34m+\u001b[0m \u001b[0;34m'3'\u001b[0m\u001b[0;34m\u001b[0m\u001b[0;34m\u001b[0m\u001b[0m\n\u001b[0m",
      "\u001b[0;31mTypeError\u001b[0m: unsupported operand type(s) for +: 'int' and 'str'"
     ]
    }
   ],
   "source": [
    "10 + '3'"
   ]
  },
  {
   "cell_type": "code",
   "execution_count": 4,
   "metadata": {},
   "outputs": [
    {
     "ename": "TypeError",
     "evalue": "can only concatenate str (not \"int\") to str",
     "output_type": "error",
     "traceback": [
      "\u001b[0;31m---------------------------------------------------------------------------\u001b[0m",
      "\u001b[0;31mTypeError\u001b[0m                                 Traceback (most recent call last)",
      "\u001b[0;32m<ipython-input-4-9437dcf020b7>\u001b[0m in \u001b[0;36m<module>\u001b[0;34m\u001b[0m\n\u001b[0;32m----> 1\u001b[0;31m \u001b[0;34m'3'\u001b[0m \u001b[0;34m+\u001b[0m \u001b[0;36m10\u001b[0m\u001b[0;34m\u001b[0m\u001b[0;34m\u001b[0m\u001b[0m\n\u001b[0m",
      "\u001b[0;31mTypeError\u001b[0m: can only concatenate str (not \"int\") to str"
     ]
    }
   ],
   "source": [
    "'3' + 10"
   ]
  },
  {
   "cell_type": "code",
   "execution_count": 16,
   "metadata": {},
   "outputs": [
    {
     "name": "stdout",
     "output_type": "stream",
     "text": [
      "Multiplying self=<__main__.MyData object at 0x11406e640> by other=<__main__.MyData object at 0x11406efa0>\n"
     ]
    },
    {
     "data": {
      "text/plain": [
       "30"
      ]
     },
     "execution_count": 16,
     "metadata": {},
     "output_type": "execute_result"
    }
   ],
   "source": [
    "class MyData:\n",
    "    def __init__(self, x):\n",
    "        self.x = x\n",
    "        \n",
    "    def __mul__(self, other):\n",
    "        print(f'Multiplying {self=} by {other=}')    # New in 3.8's f-strings!\n",
    "        if hasattr(other, 'x'):\n",
    "            return self.x * other.x\n",
    "        else:\n",
    "            return self.x * int(other)\n",
    "        \n",
    "    def __rmul__(self, other):\n",
    "        print(f'Multiplying {self=} by {other=}, but reversed!')\n",
    "        return self * other\n",
    "    \n",
    "a = MyData(10)\n",
    "b = MyData(3)\n",
    "\n",
    "a * b"
   ]
  },
  {
   "cell_type": "code",
   "execution_count": 17,
   "metadata": {},
   "outputs": [
    {
     "name": "stdout",
     "output_type": "stream",
     "text": [
      "Multiplying self=<__main__.MyData object at 0x11406e640> by other=6\n"
     ]
    },
    {
     "data": {
      "text/plain": [
       "60"
      ]
     },
     "execution_count": 17,
     "metadata": {},
     "output_type": "execute_result"
    }
   ],
   "source": [
    "# What happens if we multiply by something that lacks an x attribute?\n",
    "a * 6"
   ]
  },
  {
   "cell_type": "code",
   "execution_count": 18,
   "metadata": {},
   "outputs": [
    {
     "name": "stdout",
     "output_type": "stream",
     "text": [
      "Multiplying self=<__main__.MyData object at 0x11406e640> by other=6, but reversed!\n",
      "Multiplying self=<__main__.MyData object at 0x11406e640> by other=6\n"
     ]
    },
    {
     "data": {
      "text/plain": [
       "60"
      ]
     },
     "execution_count": 18,
     "metadata": {},
     "output_type": "execute_result"
    }
   ],
   "source": [
    "6 * a"
   ]
  },
  {
   "cell_type": "markdown",
   "metadata": {},
   "source": [
    "# Top tips for becoming a great Python programmer\n",
    "\n",
    "\"Great Python programmer\" == \"fluent\"\n",
    "\n",
    "1. Use it a lot! Write lots of Python code. Make lots of mistakes. Get better.\n",
    "2. Get feedback from others on Python code. (If you can work on a open-source project, that often does wonders.)  Pair programming!\n",
    "3. Practice practice practice.\n",
    "4. Read about programming, programming techniques.\n",
    "5. Watch + listen to conference videos."
   ]
  },
  {
   "cell_type": "markdown",
   "metadata": {},
   "source": [
    "# Testing of `input` is hard!\n",
    "\n",
    "If you're using `pytest`, then you can use the `monkeypatch` facility to rewire `sys.stdin` to any other file. Then you have control over the input.  Better yet, you can use a `io.StringIO`, which implements the same API as `sys.stdin`, but is in memory.  So you can set things up with that.\n",
    "\n"
   ]
  },
  {
   "cell_type": "markdown",
   "metadata": {},
   "source": [
    "# I overwrote the type! How do I get it back?\n",
    "\n",
    "I'm going to assume that you redefined `type` in your program.  You should assign to anything in builtins. However, it's hard to notice sometimes. Pay attention to what PyCharm/VSCode/PyLint tells you about this!\n",
    "\n",
    "If you do, then you can usually rewrite the code.  You don't want redefined builtins lying around in your code.\n",
    "\n"
   ]
  },
  {
   "cell_type": "markdown",
   "metadata": {},
   "source": [
    "# What does -O do in terms of optimizing code? "
   ]
  },
  {
   "cell_type": "markdown",
   "metadata": {},
   "source": [
    "The `-O` option does almost nothing.  I think that it only turns `__debug__` from `True` to `False`. It also removes `assert` statements.  And it removes docstrings if you use `-OO`."
   ]
  },
  {
   "cell_type": "markdown",
   "metadata": {},
   "source": [
    "# How to use `pytest`?\n",
    "\n",
    "First: `pytest` is amazing! \n",
    "\n",
    "Second: Get Brian's book (from the Pragmatic Programmers) about `pytest`.  \n",
    "\n",
    "Third: I have some archived Linux Journal columns about `pytest`.  I think that I wrote three articles about that."
   ]
  },
  {
   "cell_type": "markdown",
   "metadata": {},
   "source": [
    "# Loops: `for` vs. `while`\n",
    "\n",
    "Loops are part of the whole \"DRY\" idea in programming: Don't Repeat Yourself!\n",
    "\n",
    "- If code repeats itself several lines in a row, use a loop.\n",
    "- if it repeats itself in several places in your program, use a function.\n",
    "- If it repeats itself in several programs, use a module.\n",
    "\n",
    "How to decide between `for` and `while`?\n",
    "\n",
    "- `for` loops are for when you want to do something with every element in a sequence. Add every number, check every IP address, spam every customer.\n",
    "- `while` loops stop when we reach a condition, not when we get through a sequence.  So if you don't know how many times you're going to do something, but you know when you want to stop, that's a `while` loop."
   ]
  },
  {
   "cell_type": "code",
   "execution_count": 19,
   "metadata": {},
   "outputs": [
    {
     "data": {
      "text/plain": [
       "150"
      ]
     },
     "execution_count": 19,
     "metadata": {},
     "output_type": "execute_result"
    }
   ],
   "source": [
    "mylist = [10, 20, 30, 40, 50]\n",
    "\n",
    "total = 0\n",
    "for one_item in mylist:\n",
    "    total += one_item\n",
    "    \n",
    "total    "
   ]
  },
  {
   "cell_type": "code",
   "execution_count": 20,
   "metadata": {},
   "outputs": [
    {
     "name": "stdout",
     "output_type": "stream",
     "text": [
      "Enter a number: 5\n",
      "Adding 5 to total\n",
      "Enter a number: 20\n",
      "Adding 20 to total\n",
      "Enter a number: 30\n",
      "Adding 30 to total\n",
      "Enter a number: 2\n",
      "Adding 2 to total\n",
      "Enter a number: 8\n",
      "Adding 8 to total\n",
      "Exited the loop; total=65\n"
     ]
    }
   ],
   "source": [
    "total = 0\n",
    "while total < 60:\n",
    "    s = input('Enter a number: ').strip()\n",
    "    \n",
    "    if not s.isdigit():\n",
    "        print(f'{s} is not numeric! Try again!')\n",
    "        continue  # go back for another iteration\n",
    "        \n",
    "    print(f'Adding {s} to total')\n",
    "    total += int(s)\n",
    "    \n",
    "print(f'Exited the loop; {total=}')        \n",
    "    "
   ]
  },
  {
   "cell_type": "markdown",
   "metadata": {},
   "source": [
    "# High level overview of async (aka `asyncio`)\n",
    "\n",
    "When I have a network server handling many clients, I'll typically do one of the following two things:\n",
    "\n",
    "1. One process with many threads, and every thread handles a separate client. Problem is that threads in Python aren't really concurrent, so only one thread is running at a time.  Also, threads will drive you insane.\n",
    "2. Many processes, each handling a separate client. Problem here is that every process is completely insulated from the others, and this takes much more memory + CPU.\n",
    "\n",
    "A new approach, `asyncio`, has had ups and downs, but seems to be gaining lots of fans. It has a totally different way of doing things -- very similar to JavaScript's `nodejs`:\n",
    "\n",
    "3. Have one process, and one thread. Then have a whole bunch of functions in a list. Iterate over the list, one function at a time, and ask the function to run for a little while.  The function goes to sleep after running a bit.  Each function handles a network client, so if you have 500 clients, you'll have 500 functions on your list. Keep iterating over them, going back to the beginning when you reach the end, until the list is empty.\n",
    "\n",
    "Is async really parallel? No. Is it great in all situations? No.  Does it speed many things up? YES, because in many cases, the network latency and/or the time needed by the other side of the network is much greater than the time it takes to come back to each function.\n",
    "\n"
   ]
  },
  {
   "cell_type": "markdown",
   "metadata": {},
   "source": [
    "# How does Python know when to use `__repr__`?\n",
    "\n",
    "`__str__ is meant for end users.  Meaning, it's used whenever we use `print` or `str` on something.\n",
    "\n",
    "`__repr__` is meant for developers. It's really only used by Jupyter, debuggers, the `repr` builtin function, or some weird cases -- such as an object inside of a list.\n",
    "\n",
    "- If you only define `__repr__`, then it covers for `__str__` as needed.\n",
    "- If you only define `__str__`, then it doesn't cover `__repr__`, meaning you'll get `object.__repr__`, which is *SUPER* ugly!"
   ]
  },
  {
   "cell_type": "code",
   "execution_count": 21,
   "metadata": {},
   "outputs": [],
   "source": [
    "class Person:\n",
    "    def __init__(self, name):\n",
    "        self.name = name\n",
    "        \n",
    "    def __str__(self):\n",
    "        return f'[str] Person with {self.name=}'\n",
    "    \n",
    "    def __repr__(self):\n",
    "        return f'[repr] Person with {self.name=}'\n",
    "    \n",
    "p = Person('Reuven')"
   ]
  },
  {
   "cell_type": "code",
   "execution_count": 22,
   "metadata": {},
   "outputs": [
    {
     "name": "stdout",
     "output_type": "stream",
     "text": [
      "[str] Person with self.name='Reuven'\n"
     ]
    }
   ],
   "source": [
    "print(p)"
   ]
  },
  {
   "cell_type": "code",
   "execution_count": 23,
   "metadata": {},
   "outputs": [
    {
     "data": {
      "text/plain": [
       "\"[str] Person with self.name='Reuven'\""
      ]
     },
     "execution_count": 23,
     "metadata": {},
     "output_type": "execute_result"
    }
   ],
   "source": [
    "str(p)"
   ]
  },
  {
   "cell_type": "code",
   "execution_count": 24,
   "metadata": {},
   "outputs": [
    {
     "data": {
      "text/plain": [
       "[repr] Person with self.name='Reuven'"
      ]
     },
     "execution_count": 24,
     "metadata": {},
     "output_type": "execute_result"
    }
   ],
   "source": [
    "p"
   ]
  },
  {
   "cell_type": "code",
   "execution_count": 25,
   "metadata": {},
   "outputs": [
    {
     "data": {
      "text/plain": [
       "[[repr] Person with self.name='Reuven',\n",
       " [repr] Person with self.name='Reuven',\n",
       " [repr] Person with self.name='Reuven']"
      ]
     },
     "execution_count": 25,
     "metadata": {},
     "output_type": "execute_result"
    }
   ],
   "source": [
    "[p, p, p]"
   ]
  },
  {
   "cell_type": "markdown",
   "metadata": {},
   "source": [
    "# Learning advanced Python topics\n",
    "\n",
    "1. Fluent Python\n",
    "2. My own courses: Weekly Python Exercise, B series (intermediate/advanced)\n",
    "3. Anthony Shaw's book, \"CPython Internals\"\n",
    "4. Descriptors book by Jacob Zimmerman"
   ]
  },
  {
   "cell_type": "markdown",
   "metadata": {},
   "source": [
    "# Remembering how to set up a new class\n",
    "\n",
    "1. Every class should have a `__init__` method, which is where you set up the data (attributes) for your class.\n",
    "2. After a while, it'll become second nature\n",
    "\n",
    "*BUT*\n",
    "\n",
    "You can also try dataclasses (as of Python 3.7), which make it every easier and simpler!"
   ]
  },
  {
   "cell_type": "code",
   "execution_count": 27,
   "metadata": {},
   "outputs": [],
   "source": [
    "from dataclasses import dataclass\n",
    "\n",
    "@dataclass\n",
    "class Person:\n",
    "    first : str   # type hints on class attributes!\n",
    "    last : str\n",
    "    shoesize : int\n",
    "        \n",
    "p1 = Person('Reuven', \"Lerner\", 46)        \n",
    "p2 = Person('John', 'Doe', 47)"
   ]
  },
  {
   "cell_type": "code",
   "execution_count": 28,
   "metadata": {},
   "outputs": [
    {
     "name": "stdout",
     "output_type": "stream",
     "text": [
      "Person(first='Reuven', last='Lerner', shoesize=46)\n"
     ]
    }
   ],
   "source": [
    "print(p1)"
   ]
  },
  {
   "cell_type": "code",
   "execution_count": 29,
   "metadata": {},
   "outputs": [
    {
     "name": "stdout",
     "output_type": "stream",
     "text": [
      "Person(first='John', last='Doe', shoesize=47)\n"
     ]
    }
   ],
   "source": [
    "print(p2)"
   ]
  },
  {
   "cell_type": "code",
   "execution_count": 30,
   "metadata": {},
   "outputs": [
    {
     "data": {
      "text/plain": [
       "'Reuven'"
      ]
     },
     "execution_count": 30,
     "metadata": {},
     "output_type": "execute_result"
    }
   ],
   "source": [
    "p1.first"
   ]
  },
  {
   "cell_type": "code",
   "execution_count": 31,
   "metadata": {},
   "outputs": [
    {
     "data": {
      "text/plain": [
       "'John'"
      ]
     },
     "execution_count": 31,
     "metadata": {},
     "output_type": "execute_result"
    }
   ],
   "source": [
    "p2.first"
   ]
  },
  {
   "cell_type": "markdown",
   "metadata": {},
   "source": [
    "# Dict comprehensions\n",
    "\n",
    "Just as list comprehensions create lists, dict comprehensions create dictionaries. (Not a list of dictionaries!)"
   ]
  },
  {
   "cell_type": "code",
   "execution_count": 32,
   "metadata": {},
   "outputs": [
    {
     "data": {
      "text/plain": [
       "{'This': 4,\n",
       " 'is': 2,\n",
       " 'a': 1,\n",
       " 'bunch': 5,\n",
       " 'of': 2,\n",
       " 'words': 5,\n",
       " 'for': 3,\n",
       " 'my': 2,\n",
       " 'Python': 6,\n",
       " 'course': 6}"
      ]
     },
     "execution_count": 32,
     "metadata": {},
     "output_type": "execute_result"
    }
   ],
   "source": [
    "words = 'This is a bunch of words for my Python course'.split()\n",
    "\n",
    "# dict comprehension!\n",
    "{ one_word : len(one_word) # key : value for each pair in our new dict\n",
    "  for one_word in words}   # iterating over my list, words"
   ]
  },
  {
   "cell_type": "code",
   "execution_count": 33,
   "metadata": {},
   "outputs": [
    {
     "data": {
      "text/plain": [
       "{'This': 1,\n",
       " 'is': 1,\n",
       " 'a': 1,\n",
       " 'bunch': 1,\n",
       " 'of': 1,\n",
       " 'words': 1,\n",
       " 'for': 1,\n",
       " 'my': 0,\n",
       " 'Python': 1,\n",
       " 'course': 3}"
      ]
     },
     "execution_count": 33,
     "metadata": {},
     "output_type": "execute_result"
    }
   ],
   "source": [
    "def count_vowels(s):\n",
    "    total = 0\n",
    "    for one_letter in s.lower():\n",
    "        if one_letter in 'aeiou':\n",
    "            total += 1\n",
    "            \n",
    "    return total\n",
    "\n",
    "{ one_word : count_vowels(one_word) # key : value for each pair in our new dict\n",
    "  for one_word in words}   # iterating over my list, words"
   ]
  },
  {
   "cell_type": "markdown",
   "metadata": {},
   "source": [
    "For more about comprehensions, see here: https://lerner.co.il/2015/07/16/want-to-understand-pythons-comprehensions-think-like-an-accountant/"
   ]
  },
  {
   "cell_type": "markdown",
   "metadata": {},
   "source": [
    "# Learning Python by doing\n",
    "\n",
    "1. My book, \"Python Workout\" (https://PythonWorkout.com/)\n",
    "2. My exercise courses, Weekly Python Exercise (https://WeeklyPythonExercise.com/)\n",
    "3. PyBytes (https://pybytes.com/)\n",
    "4. Python Morsels (https://PythonMorsels.com/)\n",
    "5. Manning has LiveProjects"
   ]
  },
  {
   "cell_type": "markdown",
   "metadata": {},
   "source": [
    "# Suggested ways to learn regular expressions\n",
    "\n",
    "I have a free e-mail course: https://RegexpCrashCourse.com/, that in 14 e-mail segments, sent daily, will teach you regular expression in general, using Python.\n",
    "\n",
    "Also check out https://regular-expressions.info/, which has info about regular expressions, including comparisons."
   ]
  },
  {
   "cell_type": "markdown",
   "metadata": {},
   "source": [
    "# Is TensorFlow a library in Python?\n",
    "\n",
    "I don't know very much about it, but I think it's written in C or C++, and has bindings in Python.  TensorFlow is a library for Deep Learning (a type of machine learning)."
   ]
  },
  {
   "cell_type": "markdown",
   "metadata": {},
   "source": [
    "# Subsets\n",
    "\n"
   ]
  },
  {
   "cell_type": "code",
   "execution_count": 36,
   "metadata": {},
   "outputs": [
    {
     "data": {
      "text/plain": [
       "True"
      ]
     },
     "execution_count": 36,
     "metadata": {},
     "output_type": "execute_result"
    }
   ],
   "source": [
    "set(dir(object)).issubset(set(dir(x)))"
   ]
  },
  {
   "cell_type": "code",
   "execution_count": 37,
   "metadata": {},
   "outputs": [
    {
     "data": {
      "text/plain": [
       "True"
      ]
     },
     "execution_count": 37,
     "metadata": {},
     "output_type": "execute_result"
    }
   ],
   "source": [
    "# create a set\n",
    "s1 = {10, 20, 30}\n",
    "\n",
    "s1.issubsetset(s1)"
   ]
  },
  {
   "cell_type": "code",
   "execution_count": 38,
   "metadata": {},
   "outputs": [
    {
     "data": {
      "text/plain": [
       "True"
      ]
     },
     "execution_count": 38,
     "metadata": {},
     "output_type": "execute_result"
    }
   ],
   "source": [
    "s1 <= s1  # same thing as issubset!"
   ]
  },
  {
   "cell_type": "markdown",
   "metadata": {},
   "source": [
    "# How did I get multiplication to run by renaming `__radd__` to `__rmul__`?\n",
    "\n",
    "Simple answer: I made a mistake!  `__add__` -> `__radd__` (for reversed addition), but we were doing multiplication, so `__mul__` -> `__rmul__`"
   ]
  },
  {
   "cell_type": "markdown",
   "metadata": {},
   "source": [
    "# Engaging with Python APIs\n",
    "\n",
    "If it's a Web API, I like to use `requests`\n",
    "\n",
    "For creating APIs, I've heard that FastAPI is amazing.\n",
    "\n",
    "I used Flask for a simple API I needed to create last year, and it took me 2 hours, including setting up a PostgreSQL database."
   ]
  },
  {
   "cell_type": "markdown",
   "metadata": {},
   "source": [
    "# `exec` and `eval`\n",
    "\n",
    "Python has *statements* and *expressions*.  Statements don't return values, but do things (e.g., assignment).  Expressions return values.\n",
    "\n",
    "`eval` lets you take a string containing a Python expression, and you get the value back.\n",
    "\n",
    "`exec` takes a string containing one or more Python stattements, and executes them.\n",
    "\n",
    "Both are super dangerous!  \n",
    "\n",
    "I like to say that there's a 75% overlap between `eval` and `evil`.  If you're getting input from the user, or a database, or just about anywhere, and you use `eval`, then you should be very afraid."
   ]
  },
  {
   "cell_type": "markdown",
   "metadata": {},
   "source": [
    "# Coroutines vs. functions\n",
    "\n",
    "In asyncio, we write special functions that know how to go to sleep, and can be put on a loop.  The loop is known as the \"event loop\" and when they go to sleep, our functions are said to `await`. For a variety of reasons, functions running on the event loop are known as \"coroutines.\""
   ]
  },
  {
   "cell_type": "markdown",
   "metadata": {},
   "source": [
    "# How to get started with open source?\n",
    "\n",
    "1. Find a project you care about.\n",
    "2. They are definitely looking for help!\n",
    "3. Offer to help!\n",
    "4. Learn how to use GitHub's pull requests and such\n",
    "5. Get lots of feedback, and do more and more over time.\n",
    "6. If you hate it -- the people, the project, etc. -- leave and find another project.\n",
    "\n",
    "https://www.firsttimersonly.com/"
   ]
  },
  {
   "cell_type": "markdown",
   "metadata": {},
   "source": [
    "# Good sites other than Python Tutor\n",
    "\n",
    "1. https://PythonTutor.com/ (I have a YouTube video introducing it)\n",
    "2. https://pythex.org/ (regular expression debugger)"
   ]
  },
  {
   "cell_type": "markdown",
   "metadata": {},
   "source": [
    "# Learning about decorators\n",
    "\n",
    "Check out my PyCon 2019 talk, \"Practical Decorators,\" on YouTube!"
   ]
  },
  {
   "cell_type": "markdown",
   "metadata": {},
   "source": [
    "# What concept or logic did I learn after a long time?\n",
    "\n",
    "1. Attributes -- I keep hammering at teaching attributes because they're so central to Python and no one talks about them.  (Get deeper with properties and descriptors.)\n",
    "2. I keep learning more about machine learning and algorithms"
   ]
  },
  {
   "cell_type": "markdown",
   "metadata": {},
   "source": [
    "# Other languages\n",
    "\n",
    "I used to do a ton of Perl, then a ton of Ruby (and some JavaScript).\n",
    "\n",
    "Right now, I'm doing 95% Python + a tiny bit of SQL.  \n",
    "\n",
    "I want to learn Rust.  But I don't have time to get past a few pages in the book I bought a few years ago.\n",
    "\n"
   ]
  },
  {
   "cell_type": "code",
   "execution_count": null,
   "metadata": {},
   "outputs": [],
   "source": []
  }
 ],
 "metadata": {
  "kernelspec": {
   "display_name": "Python 3",
   "language": "python",
   "name": "python3"
  },
  "language_info": {
   "codemirror_mode": {
    "name": "ipython",
    "version": 3
   },
   "file_extension": ".py",
   "mimetype": "text/x-python",
   "name": "python",
   "nbconvert_exporter": "python",
   "pygments_lexer": "ipython3",
   "version": "3.9.5"
  }
 },
 "nbformat": 4,
 "nbformat_minor": 4
}
